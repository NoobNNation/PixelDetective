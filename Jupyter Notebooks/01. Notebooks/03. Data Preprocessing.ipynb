{
 "cells": [
  {
   "cell_type": "markdown",
   "id": "8a838a9f-3d9d-44b0-886b-8cf5bda20fd6",
   "metadata": {},
   "source": [
    "# 3. Data Preprocessing"
   ]
  },
  {
   "cell_type": "markdown",
   "id": "5f8cd110-c3b6-4cfd-9276-6fc30bd49cf2",
   "metadata": {
    "jp-MarkdownHeadingCollapsed": true
   },
   "source": [
    "## 3.1 Import Libraries"
   ]
  },
  {
   "cell_type": "code",
   "execution_count": 1,
   "id": "efcd64d7-6b34-42a6-8605-3f4ede57df01",
   "metadata": {
    "scrolled": true
   },
   "outputs": [],
   "source": [
    "import os, sys, random, gc, json \n",
    "import numpy as np\n",
    "import pandas as pd\n",
    "import seaborn as sns\n",
    "import matplotlib.pyplot as plt\n",
    "from io import StringIO\n",
    "\n",
    "import cv2\n",
    "from PIL import Image"
   ]
  },
  {
   "cell_type": "markdown",
   "id": "df9230fe-39ac-4b0d-ad7b-00864bf11ffc",
   "metadata": {},
   "source": [
    "## 3.2 Pre-processing"
   ]
  },
  {
   "cell_type": "markdown",
   "id": "9ee50417-111f-49cb-ba91-b15a7e459553",
   "metadata": {},
   "source": [
    "### 3.2.1 Pre-processor Class"
   ]
  },
  {
   "cell_type": "code",
   "execution_count": 3,
   "id": "5c2ee0b3-5309-4186-a1f7-1f9fbf890dd2",
   "metadata": {
    "scrolled": true
   },
   "outputs": [],
   "source": [
    "class ImagePreprocessor:\n",
    "\n",
    "    def convert_to_RGB(self, input_file_path, output_save_path):\n",
    "        try:\n",
    "            with Image.open(input_file_path) as img:\n",
    "                # Convert to RGBA if the image has transparency\n",
    "                if img.mode == 'P':\n",
    "                    img = img.convert('RGBA')\n",
    "    \n",
    "                # Flatten to RGB\n",
    "                if img.mode == 'RGBA':\n",
    "                    # Create an RGB image with the same color(white background)\n",
    "                    background = Image.new('RGB', img.size, (255, 255, 255))\n",
    "                    # 3 is the alpha channel\n",
    "                    background.paste(img, mask=img.split()[3])\n",
    "                    img = background\n",
    "\n",
    "                if img.mode not in ['P', 'RGBA']:\n",
    "                    img = img.convert('RGB')\n",
    "                \n",
    "                img.save(output_save_path)\n",
    "        \n",
    "        except Exception as e:\n",
    "            print(f\"Error converting image at {input_file_path}: {e}\")\n",
    "\n",
    "    def color_segmentation_YCrCb(self, input_file_path, output_save_path, min_YCrCb, max_YCrCb):\n",
    "        try:\n",
    "            img = cv2.imread(input_file_path)\n",
    "            \n",
    "            # Convert to YCrCb color space\n",
    "            ycrcb = cv2.cvtColor(img, cv2.COLOR_BGR2YCrCb)\n",
    "\n",
    "            # Find region with skin related tone in YCrCb image\n",
    "            skinRegion = cv2.inRange(ycrcb, min_YCrCb, max_YCrCb)\n",
    "\n",
    "            # Apply bitwise on original image and mask\n",
    "            skin = cv2.bitwise_and(img, img, mask = skinRegion)\n",
    "\n",
    "            # Save image\n",
    "            cv2.imwrite(output_save_path, skin)\n",
    "        \n",
    "        except Exception as e:\n",
    "            print(f\"Error in masking skin pixels at {input_file_path}: {e}\")\n",
    "\n",
    "    def color_segmentation_hsv(self, input_file_path, output_save_path, min_HSV, max_HSV):\n",
    "        try:\n",
    "            img = cv2.imread(input_file_path)\n",
    "            \n",
    "            # Convert to HSV color space\n",
    "            hsv = cv2.cvtColor(img, cv2.COLOR_BGR2HSV)\n",
    "    \n",
    "            # Define color range in HSV color space\n",
    "            min_HSV = np.array(min_HSV, np.uint8)\n",
    "            max_HSV = np.array(max_HSV, np.uint8)\n",
    "\n",
    "            # Find region with skin related tone hues in HSV image\n",
    "            colorRegion = cv2.inRange(hsv, min_HSV, max_HSV)\n",
    "    \n",
    "            # Apply bitwise on the original image and mask\n",
    "            colorSegmented = cv2.bitwise_and(img, img, mask=colorRegion)\n",
    "    \n",
    "            # Save image\n",
    "            cv2.imwrite(output_save_path, colorSegmented)\n",
    "    \n",
    "        except Exception as e:\n",
    "            print(f\"Error in color segmentation at {input_file_path}: {e}\")\n",
    "\n",
    "imagePreprocessor = ImagePreprocessor()"
   ]
  },
  {
   "cell_type": "markdown",
   "id": "baa6f021-923e-44d9-a55e-95c53ed6b3c7",
   "metadata": {
    "jp-MarkdownHeadingCollapsed": true
   },
   "source": [
    "#### 3.2.1.1 Convert to RGB"
   ]
  },
  {
   "cell_type": "code",
   "execution_count": 4,
   "id": "fcafc987-97d8-4441-a989-c87d1a2ebd9b",
   "metadata": {
    "scrolled": true
   },
   "outputs": [],
   "source": [
    "input_folder = '../02. Datasets/Images'\n",
    "\n",
    "# Iterate over each sub-folder in input_folder\n",
    "for sub_folder_name in sorted(os.listdir(input_folder)):\n",
    "    sub_folder_path = f\"{input_folder}/{sub_folder_name}\"\n",
    "    if os.path.isdir(sub_folder_path):\n",
    "        # Iterate over each file in the sub-folder\n",
    "        for file_name in sorted(os.listdir(sub_folder_path)):\n",
    "            file_path = f\"{sub_folder_path}/{file_name}\"\n",
    "            # Pre-process: Convert raw image files to RGB\n",
    "            imagePreprocessor.convert_to_RGB(file_path , file_path)"
   ]
  },
  {
   "cell_type": "markdown",
   "id": "10be6645-4d85-4480-9212-b3303998d108",
   "metadata": {
    "jp-MarkdownHeadingCollapsed": true
   },
   "source": [
    "#### 3.2.1.2 Color Segmentation- YCrCb"
   ]
  },
  {
   "cell_type": "code",
   "execution_count": 8,
   "id": "ce552014-035b-4682-904c-85e574392cf9",
   "metadata": {
    "scrolled": true
   },
   "outputs": [
    {
     "name": "stdout",
     "output_type": "stream",
     "text": [
      "Error in masking skin pixels at ../02. Datasets/Images/Acne Conglobata/junk: OpenCV(4.9.0) /io/opencv/modules/imgproc/src/color.cpp:196: error: (-215:Assertion failed) !_src.empty() in function 'cvtColor'\n",
      "\n",
      "Error in masking skin pixels at ../02. Datasets/Images/Acne Keloid/junk: OpenCV(4.9.0) /io/opencv/modules/imgproc/src/color.cpp:196: error: (-215:Assertion failed) !_src.empty() in function 'cvtColor'\n",
      "\n",
      "Error in masking skin pixels at ../02. Datasets/Images/Dermatitis Herpetiformis/junk: OpenCV(4.9.0) /io/opencv/modules/imgproc/src/color.cpp:196: error: (-215:Assertion failed) !_src.empty() in function 'cvtColor'\n",
      "\n",
      "Error in masking skin pixels at ../02. Datasets/Images/Dermatitis, Atopic/junk: OpenCV(4.9.0) /io/opencv/modules/imgproc/src/color.cpp:196: error: (-215:Assertion failed) !_src.empty() in function 'cvtColor'\n",
      "\n",
      "Error in masking skin pixels at ../02. Datasets/Images/Dermatitis, Seborrheic/junk: OpenCV(4.9.0) /io/opencv/modules/imgproc/src/color.cpp:196: error: (-215:Assertion failed) !_src.empty() in function 'cvtColor'\n",
      "\n"
     ]
    }
   ],
   "source": [
    "input_folder = '../02. Datasets/Images'\n",
    "output_folder = '../02. Datasets/Images_Preprocessed'\n",
    "\n",
    "# Define color range in YCrCb color space\n",
    "min_YCrCb = np.array([0, 130, 90], np.uint8)\n",
    "max_YCrCb = np.array([255, 183, 130], np.uint8)\n",
    "\n",
    "# Iterate over each sub-folder in input_folder\n",
    "for sub_folder_name in sorted(os.listdir(input_folder)):\n",
    "    sub_folder_path = f\"{input_folder}/{sub_folder_name}\"\n",
    "    if os.path.isdir(sub_folder_path):\n",
    "        # Iterate over each file in the sub-folder\n",
    "        for file_name in sorted(os.listdir(sub_folder_path)):\n",
    "            file_path = f\"{sub_folder_path}/{file_name}\"\n",
    "            output_file_path = os.path.join(output_folder, sub_folder_name, file_name)\n",
    "            os.makedirs(os.path.dirname(output_file_path), exist_ok=True)\n",
    "            # Pre-process: Mask skin pixels using color segmentation YCrCb method\n",
    "            imagePreprocessor.color_segmentation_YCrCb(file_path , output_file_path, min_YCrCb, max_YCrCb)"
   ]
  },
  {
   "cell_type": "markdown",
   "id": "ce8f0aec-b074-4495-a6ff-6c0854ce95a3",
   "metadata": {
    "jp-MarkdownHeadingCollapsed": true
   },
   "source": [
    "#### 3.2.1.3 Color Segmentation- HSV"
   ]
  },
  {
   "cell_type": "code",
   "execution_count": 12,
   "id": "592fe448-7260-49dd-8c15-2513826abb22",
   "metadata": {
    "scrolled": true
   },
   "outputs": [
    {
     "name": "stdout",
     "output_type": "stream",
     "text": [
      "Error in color segmentation at ../02. Datasets/Images/Acne Conglobata/junk: OpenCV(4.9.0) /io/opencv/modules/imgproc/src/color.cpp:196: error: (-215:Assertion failed) !_src.empty() in function 'cvtColor'\n",
      "\n",
      "Error in color segmentation at ../02. Datasets/Images/Acne Keloid/junk: OpenCV(4.9.0) /io/opencv/modules/imgproc/src/color.cpp:196: error: (-215:Assertion failed) !_src.empty() in function 'cvtColor'\n",
      "\n",
      "Error in color segmentation at ../02. Datasets/Images/Dermatitis Herpetiformis/junk: OpenCV(4.9.0) /io/opencv/modules/imgproc/src/color.cpp:196: error: (-215:Assertion failed) !_src.empty() in function 'cvtColor'\n",
      "\n",
      "Error in color segmentation at ../02. Datasets/Images/Dermatitis, Atopic/junk: OpenCV(4.9.0) /io/opencv/modules/imgproc/src/color.cpp:196: error: (-215:Assertion failed) !_src.empty() in function 'cvtColor'\n",
      "\n",
      "Error in color segmentation at ../02. Datasets/Images/Dermatitis, Seborrheic/junk: OpenCV(4.9.0) /io/opencv/modules/imgproc/src/color.cpp:196: error: (-215:Assertion failed) !_src.empty() in function 'cvtColor'\n",
      "\n"
     ]
    }
   ],
   "source": [
    "input_folder = '../02. Datasets/Images'\n",
    "output_folder = '../02. Datasets/Images_Preprocessed'\n",
    "\n",
    "# Define hues in HSV color space\n",
    "min_HSV = [0, 50, 50]\n",
    "max_HSV = [35, 150, 255]\n",
    "\n",
    "# Iterate over each sub-folder in input_folder\n",
    "for sub_folder_name in sorted(os.listdir(input_folder)):\n",
    "    sub_folder_path = f\"{input_folder}/{sub_folder_name}\"\n",
    "    if os.path.isdir(sub_folder_path):\n",
    "        # Iterate over each file in the sub-folder\n",
    "        for file_name in sorted(os.listdir(sub_folder_path)):\n",
    "            file_path = f\"{sub_folder_path}/{file_name}\"\n",
    "            output_file_path = os.path.join(output_folder, sub_folder_name, file_name)\n",
    "            os.makedirs(os.path.dirname(output_file_path), exist_ok=True)\n",
    "            # Pre-process: Mask skin pixels using color segmentation hsv method\n",
    "            imagePreprocessor.color_segmentation_hsv(file_path , output_file_path, min_HSV, max_HSV)"
   ]
  }
 ],
 "metadata": {
  "kernelspec": {
   "display_name": "Python 3 (ipykernel)",
   "language": "python",
   "name": "python3"
  },
  "language_info": {
   "codemirror_mode": {
    "name": "ipython",
    "version": 3
   },
   "file_extension": ".py",
   "mimetype": "text/x-python",
   "name": "python",
   "nbconvert_exporter": "python",
   "pygments_lexer": "ipython3",
   "version": "3.12.0"
  }
 },
 "nbformat": 4,
 "nbformat_minor": 5
}
